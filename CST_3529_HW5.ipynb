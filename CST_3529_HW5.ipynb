{
 "cells": [
  {
   "cell_type": "markdown",
   "id": "e167494b-22b0-4226-96be-f94bbe71c318",
   "metadata": {},
   "source": [
    "# Le' Sean  Roberts"
   ]
  },
  {
   "cell_type": "markdown",
   "id": "e4538d86-2ef8-446d-8467-59f24ba5abc6",
   "metadata": {},
   "source": [
    "# CST 3529 APPLIED METHODS IN MACHINE LEARNING \n",
    "## ASSIGNMENT 5 (NEURAL NETWORK)"
   ]
  },
  {
   "cell_type": "markdown",
   "id": "edd381e0-aa50-4533-97d0-e3c1c1a60cd9",
   "metadata": {},
   "source": [
    " ** A Basic Neural Network.\n",
    " Applying the common data set Fashion-MNIST to predict the class of an item of clothing among 10 classes, labels (0 to 9). Data stems from the Keras library. "
   ]
  },
  {
   "cell_type": "code",
   "execution_count": 2,
   "id": "921e6fd1-6dd3-46c0-bea7-4c0b50ec27c3",
   "metadata": {},
   "outputs": [
    {
     "name": "stdout",
     "output_type": "stream",
     "text": [
      "WARNING:tensorflow:From C:\\Users\\verlene\\anaconda3\\Lib\\site-packages\\keras\\src\\losses.py:2976: The name tf.losses.sparse_softmax_cross_entropy is deprecated. Please use tf.compat.v1.losses.sparse_softmax_cross_entropy instead.\n",
      "\n",
      "Downloading data from https://storage.googleapis.com/tensorflow/tf-keras-datasets/train-labels-idx1-ubyte.gz\n",
      "29515/29515 [==============================] - 0s 1us/step\n",
      "Downloading data from https://storage.googleapis.com/tensorflow/tf-keras-datasets/train-images-idx3-ubyte.gz\n",
      "26421880/26421880 [==============================] - 14s 1us/step\n",
      "Downloading data from https://storage.googleapis.com/tensorflow/tf-keras-datasets/t10k-labels-idx1-ubyte.gz\n",
      "5148/5148 [==============================] - 0s 0s/step\n",
      "Downloading data from https://storage.googleapis.com/tensorflow/tf-keras-datasets/t10k-images-idx3-ubyte.gz\n",
      "4422102/4422102 [==============================] - 1s 0us/step\n"
     ]
    }
   ],
   "source": [
    "import numpy as np\n",
    "import matplotlib.pyplot as plt\n",
    "import tensorflow as tf\n",
    "\n",
    "# loading the Fashion-MNIST dataset \n",
    "fashion_mnist = tf.keras.datasets.fashion_mnist\n",
    "(train_images, train_labels), (test_images, test_labels) = fashion_mnist.load_data()"
   ]
  },
  {
   "cell_type": "code",
   "execution_count": 3,
   "id": "ef0fa173-a1ef-4113-9cca-e0d7bd78d662",
   "metadata": {},
   "outputs": [
    {
     "name": "stdout",
     "output_type": "stream",
     "text": [
      "Training images shape: (60000, 28, 28)\n",
      "Training labels shape: (60000,)\n",
      "Test images shape: (10000, 28, 28)\n",
      "Test labels shape: (10000,)\n"
     ]
    }
   ],
   "source": [
    "# Dimension of the data.\n",
    "print(\"Training images shape:\", train_images.shape)\n",
    "print(\"Training labels shape:\", train_labels.shape)\n",
    "print(\"Test images shape:\", test_images.shape)\n",
    "print(\"Test labels shape:\", test_labels.shape)"
   ]
  },
  {
   "cell_type": "code",
   "execution_count": 4,
   "id": "41e08343-cae8-405e-b4cd-27a46dfa2a68",
   "metadata": {},
   "outputs": [
    {
     "name": "stdout",
     "output_type": "stream",
     "text": [
      "Missing values in training images: False\n",
      "Missing values in test images: False\n"
     ]
    }
   ],
   "source": [
    "# Check for missing data.\n",
    "print(\"Missing values in training images:\", np.isnan(train_images).any())\n",
    "print(\"Missing values in test images:\", np.isnan(test_images).any())"
   ]
  },
  {
   "cell_type": "code",
   "execution_count": 6,
   "id": "21dd6a65-89f1-4226-9667-cd52ea2a9607",
   "metadata": {},
   "outputs": [
    {
     "name": "stdout",
     "output_type": "stream",
     "text": [
      "class labels: [0 1 2 3 4 5 6 7 8 9]\n",
      "class_counts: [6000 6000 6000 6000 6000 6000 6000 6000 6000 6000]\n"
     ]
    }
   ],
   "source": [
    "# Check class distribution.\n",
    "unique_classes, class_counts = np.unique(train_labels, return_counts = True)\n",
    "print(\"class labels:\", unique_classes)\n",
    "print(\"class_counts:\", class_counts)"
   ]
  },
  {
   "cell_type": "code",
   "execution_count": 7,
   "id": "0ef3f9e1-d833-429c-bf7c-1218df457a34",
   "metadata": {},
   "outputs": [
    {
     "data": {
      "image/png": "[encoded data removed]",
      "text/plain": [
       "<Figure size 1000x1000 with 10 Axes>"
      ]
     },
     "metadata": {},
     "output_type": "display_data"
    }
   ],
   "source": [
    "# Display sample images from each class count.\n",
    "plt.figure(figsize = (10, 10))\n",
    "for i in range(10):\n",
    "    plt.subplot(2, 5, i + 1)\n",
    "    plt.imshow(train_images[train_labels == i][0], cmap = 'gray')\n",
    "    plt.title(f'Class {i}')\n",
    "    plt.axis('off')\n",
    "plt.show()"
   ]
  },
  {
   "cell_type": "code",
   "execution_count": 8,
   "id": "13a5433b-8c13-4822-b4ed-a6f8ca73c597",
   "metadata": {},
   "outputs": [],
   "source": [
    "# Preprocessing the data.\n",
    "# Normalizing the pixel values of the images data. \n",
    "# Pixel values ranges from 0 to 255; 0 for black and 255 for white.\n",
    "# Dividing the pixel values by 255 scales the values to be inthe range 0 to 1;\n",
    "# Normalization helps improve the training process of NNs by having all pixel values be on the same scale.\n",
    "# A common preprocessing step when working with images data with neural networks. \n",
    "train_images = train_images/255\n",
    "test_images = test_images/255"
   ]
  },
  {
   "cell_type": "code",
   "execution_count": 12,
   "id": "dfcbae52-ef8d-4c83-87d1-1dbc026f3704",
   "metadata": {},
   "outputs": [],
   "source": [
    "# Define the model.\n",
    "model = tf.keras.Sequential([\n",
    "    tf.keras.layers.Flatten(input_shape = (28, 28)),\n",
    "          # Flatten input images from 2D to 1D.\n",
    "    tf.keras.layers.Dense(128, activation = 'relu'),\n",
    "          # Fully connect layer with 128 neurons and ReLU activation.\n",
    "    tf.keras.layers.Dense(10, activation = 'softmax'),\n",
    "          # Output layer with 10 neurons (one for each cklass) and softmax activation\n",
    "])"
   ]
  },
  {
   "cell_type": "code",
   "execution_count": 13,
   "id": "0b831835-cc62-4488-a507-ce400d648b33",
   "metadata": {},
   "outputs": [
    {
     "name": "stdout",
     "output_type": "stream",
     "text": [
      "WARNING:tensorflow:From C:\\Users\\verlene\\anaconda3\\Lib\\site-packages\\keras\\src\\optimizers\\__init__.py:309: The name tf.train.Optimizer is deprecated. Please use tf.compat.v1.train.Optimizer instead.\n",
      "\n"
     ]
    }
   ],
   "source": [
    "# Compile the model.\n",
    "model.compile(optimizer = 'adam', loss ='sparse_categorical_crossentropy',\n",
    "              metrics = ['accuracy'])"
   ]
  },
  {
   "cell_type": "code",
   "execution_count": 14,
   "id": "b31a1c79-1a13-4ee8-8a63-c2e012ae37b1",
   "metadata": {},
   "outputs": [
    {
     "name": "stdout",
     "output_type": "stream",
     "text": [
      "Epoch 1/10\n",
      "WARNING:tensorflow:From C:\\Users\\verlene\\anaconda3\\Lib\\site-packages\\keras\\src\\utils\\tf_utils.py:492: The name tf.ragged.RaggedTensorValue is deprecated. Please use tf.compat.v1.ragged.RaggedTensorValue instead.\n",
      "\n",
      "WARNING:tensorflow:From C:\\Users\\verlene\\anaconda3\\Lib\\site-packages\\keras\\src\\engine\\base_layer_utils.py:384: The name tf.executing_eagerly_outside_functions is deprecated. Please use tf.compat.v1.executing_eagerly_outside_functions instead.\n",
      "\n",
      "1875/1875 [==============================] - 7s 3ms/step - loss: 0.5002 - accuracy: 0.8238\n",
      "Epoch 2/10\n",
      "1875/1875 [==============================] - 5s 3ms/step - loss: 0.3740 - accuracy: 0.8651\n",
      "Epoch 3/10\n",
      "1875/1875 [==============================] - 6s 3ms/step - loss: 0.3380 - accuracy: 0.8769\n",
      "Epoch 4/10\n",
      "1875/1875 [==============================] - 5s 3ms/step - loss: 0.3136 - accuracy: 0.8843\n",
      "Epoch 5/10\n",
      "1875/1875 [==============================] - 5s 3ms/step - loss: 0.2949 - accuracy: 0.8913\n",
      "Epoch 6/10\n",
      "1875/1875 [==============================] - 6s 3ms/step - loss: 0.2810 - accuracy: 0.8957\n",
      "Epoch 7/10\n",
      "1875/1875 [==============================] - 6s 3ms/step - loss: 0.2687 - accuracy: 0.8997\n",
      "Epoch 8/10\n",
      "1875/1875 [==============================] - 6s 3ms/step - loss: 0.2565 - accuracy: 0.9043\n",
      "Epoch 9/10\n",
      "1875/1875 [==============================] - 6s 3ms/step - loss: 0.2498 - accuracy: 0.9074\n",
      "Epoch 10/10\n",
      "1875/1875 [==============================] - 5s 3ms/step - loss: 0.2402 - accuracy: 0.9110\n"
     ]
    },
    {
     "data": {
      "text/plain": [
       "<keras.src.callbacks.History at 0x21298b7a150>"
      ]
     },
     "execution_count": 14,
     "metadata": {},
     "output_type": "execute_result"
    }
   ],
   "source": [
    "# Train the model.\n",
    "model.fit(train_images, train_labels, epochs = 10)"
   ]
  },
  {
   "cell_type": "code",
   "execution_count": 15,
   "id": "70d429fd-3f9a-4f5e-86a3-47aeafe848ef",
   "metadata": {},
   "outputs": [
    {
     "name": "stdout",
     "output_type": "stream",
     "text": [
      "313/313 [==============================] - 1s 2ms/step - loss: 0.3386 - accuracy: 0.8814\n",
      "\n",
      "Test loss: 0.33862775564193726\n",
      "\n",
      "Test accuracy: 0.8813999891281128\n"
     ]
    }
   ],
   "source": [
    "# Evaluate the model.\n",
    "test_loss, test_acc = model.evaluate(test_images, test_labels)\n",
    "print('\\nTest loss:', test_loss)\n",
    "print('\\nTest accuracy:', test_acc)"
   ]
  }
 ],
 "metadata": {
  "kernelspec": {
   "display_name": "Python 3 (ipykernel)",
   "language": "python",
   "name": "python3"
  },
  "language_info": {
   "codemirror_mode": {
    "name": "ipython",
    "version": 3
   },
   "file_extension": ".py",
   "mimetype": "text/x-python",
   "name": "python",
   "nbconvert_exporter": "python",
   "pygments_lexer": "ipython3",
   "version": "3.11.5"
  }
 },
 "nbformat": 4,
 "nbformat_minor": 5
}
